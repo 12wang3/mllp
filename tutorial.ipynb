{
 "cells": [
  {
   "cell_type": "markdown",
   "metadata": {},
   "source": [
    "# Tutorial\n",
    "This tutorial shows how to use the mllp package."
   ]
  },
  {
   "cell_type": "code",
   "execution_count": 1,
   "metadata": {},
   "outputs": [],
   "source": [
    "import torch\n",
    "import pandas as pd\n",
    "from sklearn.datasets import load_breast_cancer\n",
    "from sklearn.model_selection import train_test_split\n",
    "\n",
    "from mllp.models import MLLP\n",
    "from mllp.utils import DBEncoder\n",
    "\n",
    "device = torch.device('cuda:0' if torch.cuda.is_available() else 'cpu')"
   ]
  },
  {
   "cell_type": "markdown",
   "metadata": {},
   "source": [
    "## Prepare data\n",
    "We use the [breast cancer wisconsin dataset](https://archive.ics.uci.edu/ml/datasets/Breast+Cancer+Wisconsin+(Diagnostic)) for example.  \n",
    "X_df stores the feature values of all the instances.  \n",
    "y_df stores the class labels of all the instances.  \n",
    "f_df stores the feature names and feature types (continuous or discrete)."
   ]
  },
  {
   "cell_type": "code",
   "execution_count": 2,
   "metadata": {},
   "outputs": [],
   "source": [
    "data = load_breast_cancer()\n",
    "\n",
    "X_df = pd.DataFrame(data['data'], columns=data['feature_names'])\n",
    "y_df = pd.DataFrame(data['target'], columns=['class'])\n",
    "f_df = pd.DataFrame(zip(data['feature_names'], ['continuous'] * len(data.feature_names)))\n",
    "X_train, X_test, y_train, y_test = train_test_split(X_df, y_df, train_size=0.8)"
   ]
  },
  {
   "cell_type": "markdown",
   "metadata": {},
   "source": [
    "## Discrete and binarize data"
   ]
  },
  {
   "cell_type": "markdown",
   "metadata": {},
   "source": [
    "For features in the data set are continuous (real numbers), we need to discrete them first.  \n",
    "After data discretization, we use the one-hot encoding to encode all the features and the class.  \n",
    "`DBEncoder` does all of this for us."
   ]
  },
  {
   "cell_type": "code",
   "execution_count": 3,
   "metadata": {},
   "outputs": [],
   "source": [
    "db_enc = DBEncoder(f_df, discrete=True)\n",
    "db_enc.fit(X_train, y_train)\n",
    "X_train, y_train = db_enc.transform(X_train, y_train)\n",
    "X_test, y_test = db_enc.transform(X_test, y_test)"
   ]
  },
  {
   "cell_type": "markdown",
   "metadata": {},
   "source": [
    "`DBEncoder` uses the recursive minimal entropy partitioning algorithm for data discretization.  \n",
    "The class member `me_discretizer` is the discretizer and we can get the partition boundaries by:"
   ]
  },
  {
   "cell_type": "code",
   "execution_count": 4,
   "metadata": {
    "scrolled": true
   },
   "outputs": [
    {
     "data": {
      "text/plain": [
       "defaultdict(list,\n",
       "            {'mean radius': [12.99, 15.04, 16.84],\n",
       "             'mean texture': [18.45],\n",
       "             'mean perimeter': [85.24, 96.45, 108.4],\n",
       "             'mean area': [496.6, 690.2, 880.2],\n",
       "             'mean smoothness': [0.08992],\n",
       "             'mean compactness': [0.1021, 0.1364],\n",
       "             'mean concavity': [0.0716, 0.09657],\n",
       "             'mean concave points': [0.02657, 0.05102, 0.07404],\n",
       "             'mean symmetry': [0.1723, 0.2081],\n",
       "             'mean fractal dimension': [],\n",
       "             'radius error': [0.1935, 0.3857, 0.5462],\n",
       "             'texture error': [],\n",
       "             'perimeter error': [2.056, 2.759, 4.36],\n",
       "             'area error': [31.24, 53.65],\n",
       "             'smoothness error': [],\n",
       "             'compactness error': [0.0182],\n",
       "             'concavity error': [0.01099, 0.02105],\n",
       "             'concave points error': [0.009199, 0.012],\n",
       "             'symmetry error': [],\n",
       "             'fractal dimension error': [0.00233],\n",
       "             'worst radius': [14.9, 16.77, 18.22],\n",
       "             'worst texture': [23.84],\n",
       "             'worst perimeter': [105.0, 120.3],\n",
       "             'worst area': [739.1, 880.8, 1032.0],\n",
       "             'worst smoothness': [0.1389],\n",
       "             'worst compactness': [0.1482, 0.2809, 0.3663],\n",
       "             'worst concavity': [0.2028, 0.366],\n",
       "             'worst concave points': [0.1095, 0.1453, 0.175],\n",
       "             'worst symmetry': [0.2806, 0.3557],\n",
       "             'worst fractal dimension': [0.07842]})"
      ]
     },
     "execution_count": 4,
     "metadata": {},
     "output_type": "execute_result"
    }
   ],
   "source": [
    "db_enc.me_discretizer.boundaries"
   ]
  },
  {
   "cell_type": "markdown",
   "metadata": {},
   "source": [
    "## Set the MLLP\n",
    "Set the network structure, device, rate of random binarization and whether use the NOT (~) operator.  \n",
    "Run `MLLP?` for more information."
   ]
  },
  {
   "cell_type": "code",
   "execution_count": 5,
   "metadata": {},
   "outputs": [
    {
     "data": {
      "text/plain": [
       "MLLP(\n",
       "  (conj0): ConjunctionLayer(\n",
       "    (randomly_binarize_layer): RandomBinarizationLayer()\n",
       "  )\n",
       "  (disj0): DisjunctionLayer(\n",
       "    (randomly_binarize_layer): RandomBinarizationLayer()\n",
       "  )\n",
       ")"
      ]
     },
     "execution_count": 5,
     "metadata": {},
     "output_type": "execute_result"
    }
   ],
   "source": [
    "net_structure = [X_train.shape[-1], 32, y_train.shape[-1]]\n",
    "# below is a more complex MLLP structure that can be used for a complex data set\n",
    "# net_structure = [X_train.shape[-1], 128, 128, 64, y_train.shape[-1]]\n",
    "net = MLLP(net_structure,\n",
    "           device=device,\n",
    "           random_binarization_rate=0.0,\n",
    "           use_not=False)\n",
    "net.to(device)"
   ]
  },
  {
   "cell_type": "markdown",
   "metadata": {},
   "source": [
    "## Train the MLLP\n",
    "Set the parameters for training and train the MLLP. The log is displayed during the training.  \n",
    "Run `MLLP.train?` for more information."
   ]
  },
  {
   "cell_type": "code",
   "execution_count": 6,
   "metadata": {},
   "outputs": [
    {
     "name": "stdout",
     "output_type": "stream",
     "text": [
      "[INFO] - LR is set to 0.005\n",
      "[INFO] - epoch: 0, loss: 6.935159310698509\n",
      "[INFO] - ------------------------------------------------------------\n",
      "[INFO] - On Training Set:\n",
      "\tAccuracy of MLLP Model: 0.7142857142857143\n",
      "\tAccuracy of CRS  Model: 0.2857142857142857\n",
      "[INFO] - On Training Set:\n",
      "\tF1 Score of MLLP Model: 0.41666666666666663\n",
      "\tF1 Score of CRS  Model: 0.22222222222222224\n",
      "[INFO] - ------------------------------------------------------------\n",
      "[INFO] - epoch: 1, loss: 3.321583613753319\n",
      "[INFO] - epoch: 2, loss: 2.1850833036005497\n",
      "[INFO] - epoch: 3, loss: 1.9101239051669836\n",
      "[INFO] - epoch: 4, loss: 1.6809748206287622\n"
     ]
    },
    {
     "name": "stderr",
     "output_type": "stream",
     "text": [
      "/usr/local/lib/python3.7/site-packages/sklearn/metrics/classification.py:1437: UndefinedMetricWarning: F-score is ill-defined and being set to 0.0 in labels with no predicted samples.\n",
      "  'precision', 'predicted', average, warn_for)\n"
     ]
    },
    {
     "name": "stdout",
     "output_type": "stream",
     "text": [
      "[INFO] - epoch: 5, loss: 1.5773893147706985\n",
      "[INFO] - ------------------------------------------------------------\n",
      "[INFO] - On Training Set:\n",
      "\tAccuracy of MLLP Model: 1.0\n",
      "\tAccuracy of CRS  Model: 0.5714285714285714\n",
      "[INFO] - On Training Set:\n",
      "\tF1 Score of MLLP Model: 1.0\n",
      "\tF1 Score of CRS  Model: 0.36363636363636365\n",
      "[INFO] - ------------------------------------------------------------\n",
      "[INFO] - epoch: 6, loss: 1.511269235983491\n",
      "[INFO] - epoch: 7, loss: 1.4710526894778013\n",
      "[INFO] - epoch: 8, loss: 1.3050645738840103\n",
      "[INFO] - epoch: 9, loss: 1.2551615005359054\n",
      "[INFO] - epoch: 10, loss: 1.1588296201080084\n",
      "[INFO] - ------------------------------------------------------------\n",
      "[INFO] - On Training Set:\n",
      "\tAccuracy of MLLP Model: 0.8571428571428571\n",
      "\tAccuracy of CRS  Model: 1.0\n",
      "[INFO] - On Training Set:\n",
      "\tF1 Score of MLLP Model: 0.7878787878787878\n",
      "\tF1 Score of CRS  Model: 1.0\n",
      "[INFO] - ------------------------------------------------------------\n",
      "[INFO] - epoch: 11, loss: 1.0267322724685073\n",
      "[INFO] - epoch: 12, loss: 0.9804640552029014\n",
      "[INFO] - epoch: 13, loss: 0.9283771850168705\n",
      "[INFO] - epoch: 14, loss: 0.8350719155278057\n",
      "[INFO] - epoch: 15, loss: 0.7995672177057713\n",
      "[INFO] - ------------------------------------------------------------\n",
      "[INFO] - On Training Set:\n",
      "\tAccuracy of MLLP Model: 1.0\n",
      "\tAccuracy of CRS  Model: 1.0\n",
      "[INFO] - On Training Set:\n",
      "\tF1 Score of MLLP Model: 1.0\n",
      "\tF1 Score of CRS  Model: 1.0\n",
      "[INFO] - ------------------------------------------------------------\n",
      "[INFO] - epoch: 16, loss: 0.7526455195620656\n",
      "[INFO] - epoch: 17, loss: 0.7231834144331515\n",
      "[INFO] - epoch: 18, loss: 0.6898379204794765\n",
      "[INFO] - epoch: 19, loss: 0.6875745933502913\n",
      "[INFO] - epoch: 20, loss: 0.6829527502413839\n",
      "[INFO] - ------------------------------------------------------------\n",
      "[INFO] - On Training Set:\n",
      "\tAccuracy of MLLP Model: 0.8571428571428571\n",
      "\tAccuracy of CRS  Model: 0.8571428571428571\n",
      "[INFO] - On Training Set:\n",
      "\tF1 Score of MLLP Model: 0.8444444444444446\n",
      "\tF1 Score of CRS  Model: 0.8444444444444446\n",
      "[INFO] - ------------------------------------------------------------\n",
      "[INFO] - epoch: 21, loss: 0.6250504544004798\n",
      "[INFO] - epoch: 22, loss: 0.6290955950971693\n",
      "[INFO] - epoch: 23, loss: 0.6224523629934993\n",
      "[INFO] - epoch: 24, loss: 0.6006627010647207\n",
      "[INFO] - epoch: 25, loss: 0.5931204495718703\n",
      "[INFO] - ------------------------------------------------------------\n",
      "[INFO] - On Training Set:\n",
      "\tAccuracy of MLLP Model: 1.0\n",
      "\tAccuracy of CRS  Model: 1.0\n",
      "[INFO] - On Training Set:\n",
      "\tF1 Score of MLLP Model: 1.0\n",
      "\tF1 Score of CRS  Model: 1.0\n",
      "[INFO] - ------------------------------------------------------------\n",
      "[INFO] - epoch: 26, loss: 0.5487580980407074\n",
      "[INFO] - epoch: 27, loss: 0.5396288841147907\n",
      "[INFO] - epoch: 28, loss: 0.5164314872818068\n",
      "[INFO] - epoch: 29, loss: 0.514805454731686\n",
      "[INFO] - epoch: 30, loss: 0.5213050352758728\n",
      "[INFO] - ------------------------------------------------------------\n",
      "[INFO] - On Training Set:\n",
      "\tAccuracy of MLLP Model: 1.0\n",
      "\tAccuracy of CRS  Model: 1.0\n",
      "[INFO] - On Training Set:\n",
      "\tF1 Score of MLLP Model: 1.0\n",
      "\tF1 Score of CRS  Model: 1.0\n",
      "[INFO] - ------------------------------------------------------------\n",
      "[INFO] - epoch: 31, loss: 0.5153118777088821\n",
      "[INFO] - epoch: 32, loss: 0.4644705679966137\n",
      "[INFO] - epoch: 33, loss: 0.4529158290242776\n",
      "[INFO] - epoch: 34, loss: 0.42667398310732096\n",
      "[INFO] - epoch: 35, loss: 0.42880703206174076\n",
      "[INFO] - ------------------------------------------------------------\n",
      "[INFO] - On Training Set:\n",
      "\tAccuracy of MLLP Model: 1.0\n",
      "\tAccuracy of CRS  Model: 1.0\n",
      "[INFO] - On Training Set:\n",
      "\tF1 Score of MLLP Model: 1.0\n",
      "\tF1 Score of CRS  Model: 1.0\n",
      "[INFO] - ------------------------------------------------------------\n",
      "[INFO] - epoch: 36, loss: 0.4145746112772031\n",
      "[INFO] - epoch: 37, loss: 0.3901478616753593\n",
      "[INFO] - epoch: 38, loss: 0.3989749232423492\n",
      "[INFO] - epoch: 39, loss: 0.43127767369151115\n",
      "[INFO] - epoch: 40, loss: 0.37254230334656313\n",
      "[INFO] - ------------------------------------------------------------\n",
      "[INFO] - On Training Set:\n",
      "\tAccuracy of MLLP Model: 1.0\n",
      "\tAccuracy of CRS  Model: 1.0\n",
      "[INFO] - On Training Set:\n",
      "\tF1 Score of MLLP Model: 1.0\n",
      "\tF1 Score of CRS  Model: 1.0\n",
      "[INFO] - ------------------------------------------------------------\n",
      "[INFO] - epoch: 41, loss: 0.346025459759403\n",
      "[INFO] - epoch: 42, loss: 0.33103890098573174\n",
      "[INFO] - epoch: 43, loss: 0.31553162929048995\n",
      "[INFO] - epoch: 44, loss: 0.30858293414348736\n",
      "[INFO] - epoch: 45, loss: 0.2975481962203048\n",
      "[INFO] - ------------------------------------------------------------\n",
      "[INFO] - On Training Set:\n",
      "\tAccuracy of MLLP Model: 1.0\n",
      "\tAccuracy of CRS  Model: 1.0\n",
      "[INFO] - On Training Set:\n",
      "\tF1 Score of MLLP Model: 1.0\n",
      "\tF1 Score of CRS  Model: 1.0\n",
      "[INFO] - ------------------------------------------------------------\n",
      "[INFO] - epoch: 46, loss: 0.2840633452869952\n",
      "[INFO] - epoch: 47, loss: 0.29545994446380064\n",
      "[INFO] - epoch: 48, loss: 0.2691548784641782\n",
      "[INFO] - epoch: 49, loss: 0.2570627142849844\n",
      "[INFO] - epoch: 50, loss: 0.25293275066360366\n",
      "[INFO] - ------------------------------------------------------------\n",
      "[INFO] - On Training Set:\n",
      "\tAccuracy of MLLP Model: 1.0\n",
      "\tAccuracy of CRS  Model: 1.0\n",
      "[INFO] - On Training Set:\n",
      "\tF1 Score of MLLP Model: 1.0\n",
      "\tF1 Score of CRS  Model: 1.0\n",
      "[INFO] - ------------------------------------------------------------\n",
      "[INFO] - epoch: 51, loss: 0.2519164824625477\n",
      "[INFO] - epoch: 52, loss: 0.23649256062344648\n",
      "[INFO] - epoch: 53, loss: 0.22490982702584006\n",
      "[INFO] - epoch: 54, loss: 0.21958792031000485\n",
      "[INFO] - epoch: 55, loss: 0.21560939389746636\n",
      "[INFO] - ------------------------------------------------------------\n",
      "[INFO] - On Training Set:\n",
      "\tAccuracy of MLLP Model: 1.0\n",
      "\tAccuracy of CRS  Model: 1.0\n",
      "[INFO] - On Training Set:\n",
      "\tF1 Score of MLLP Model: 1.0\n",
      "\tF1 Score of CRS  Model: 1.0\n",
      "[INFO] - ------------------------------------------------------------\n",
      "[INFO] - epoch: 56, loss: 0.21015417014496052\n",
      "[INFO] - epoch: 57, loss: 0.19874185741355177\n",
      "[INFO] - epoch: 58, loss: 0.20081502813263796\n",
      "[INFO] - epoch: 59, loss: 0.19179622567571641\n",
      "[INFO] - epoch: 60, loss: 0.20208091090171365\n",
      "[INFO] - ------------------------------------------------------------\n",
      "[INFO] - On Training Set:\n",
      "\tAccuracy of MLLP Model: 1.0\n",
      "\tAccuracy of CRS  Model: 1.0\n",
      "[INFO] - On Training Set:\n",
      "\tF1 Score of MLLP Model: 1.0\n",
      "\tF1 Score of CRS  Model: 1.0\n",
      "[INFO] - ------------------------------------------------------------\n",
      "[INFO] - epoch: 61, loss: 0.1828587991767563\n",
      "[INFO] - epoch: 62, loss: 0.18048132066542166\n",
      "[INFO] - epoch: 63, loss: 0.1709297150373459\n",
      "[INFO] - epoch: 64, loss: 0.18743385175184812\n",
      "[INFO] - epoch: 65, loss: 0.16685797270474723\n",
      "[INFO] - ------------------------------------------------------------\n",
      "[INFO] - On Training Set:\n",
      "\tAccuracy of MLLP Model: 1.0\n",
      "\tAccuracy of CRS  Model: 0.8571428571428571\n",
      "[INFO] - On Training Set:\n",
      "\tF1 Score of MLLP Model: 1.0\n",
      "\tF1 Score of CRS  Model: 0.8571428571428571\n",
      "[INFO] - ------------------------------------------------------------\n",
      "[INFO] - epoch: 66, loss: 0.16287551332789008\n",
      "[INFO] - epoch: 67, loss: 0.16247867119091097\n",
      "[INFO] - epoch: 68, loss: 0.14751453198186937\n",
      "[INFO] - epoch: 69, loss: 0.1542281669608201\n",
      "[INFO] - epoch: 70, loss: 0.1522442134883022\n",
      "[INFO] - ------------------------------------------------------------\n",
      "[INFO] - On Training Set:\n",
      "\tAccuracy of MLLP Model: 1.0\n",
      "\tAccuracy of CRS  Model: 1.0\n",
      "[INFO] - On Training Set:\n",
      "\tF1 Score of MLLP Model: 1.0\n",
      "\tF1 Score of CRS  Model: 1.0\n",
      "[INFO] - ------------------------------------------------------------\n",
      "[INFO] - epoch: 71, loss: 0.1500953910726821\n",
      "[INFO] - epoch: 72, loss: 0.13656667554005253\n",
      "[INFO] - epoch: 73, loss: 0.13908240917407966\n",
      "[INFO] - epoch: 74, loss: 0.13414765454581357\n",
      "[INFO] - epoch: 75, loss: 0.1283683421497699\n",
      "[INFO] - ------------------------------------------------------------\n",
      "[INFO] - On Training Set:\n",
      "\tAccuracy of MLLP Model: 1.0\n",
      "\tAccuracy of CRS  Model: 1.0\n",
      "[INFO] - On Training Set:\n",
      "\tF1 Score of MLLP Model: 1.0\n",
      "\tF1 Score of CRS  Model: 1.0\n",
      "[INFO] - ------------------------------------------------------------\n",
      "[INFO] - epoch: 76, loss: 0.12685943384735765\n",
      "[INFO] - epoch: 77, loss: 0.13344465880618372\n",
      "[INFO] - epoch: 78, loss: 0.12484982753107943\n",
      "[INFO] - epoch: 79, loss: 0.122358396247364\n",
      "[INFO] - epoch: 80, loss: 0.11726688513505223\n"
     ]
    },
    {
     "name": "stdout",
     "output_type": "stream",
     "text": [
      "[INFO] - ------------------------------------------------------------\n",
      "[INFO] - On Training Set:\n",
      "\tAccuracy of MLLP Model: 1.0\n",
      "\tAccuracy of CRS  Model: 1.0\n",
      "[INFO] - On Training Set:\n",
      "\tF1 Score of MLLP Model: 1.0\n",
      "\tF1 Score of CRS  Model: 1.0\n",
      "[INFO] - ------------------------------------------------------------\n",
      "[INFO] - epoch: 81, loss: 0.1172674756780907\n",
      "[INFO] - epoch: 82, loss: 0.11682874178586644\n",
      "[INFO] - epoch: 83, loss: 0.1132623516359672\n",
      "[INFO] - epoch: 84, loss: 0.12572347479908785\n",
      "[INFO] - epoch: 85, loss: 0.11208124875884096\n",
      "[INFO] - ------------------------------------------------------------\n",
      "[INFO] - On Training Set:\n",
      "\tAccuracy of MLLP Model: 1.0\n",
      "\tAccuracy of CRS  Model: 1.0\n",
      "[INFO] - On Training Set:\n",
      "\tF1 Score of MLLP Model: 1.0\n",
      "\tF1 Score of CRS  Model: 1.0\n",
      "[INFO] - ------------------------------------------------------------\n",
      "[INFO] - epoch: 86, loss: 0.11346478953873884\n",
      "[INFO] - epoch: 87, loss: 0.10797896300391585\n",
      "[INFO] - epoch: 88, loss: 0.10717325240329956\n",
      "[INFO] - epoch: 89, loss: 0.11133573423467169\n",
      "[INFO] - epoch: 90, loss: 0.1106649986636512\n",
      "[INFO] - ------------------------------------------------------------\n",
      "[INFO] - On Training Set:\n",
      "\tAccuracy of MLLP Model: 1.0\n",
      "\tAccuracy of CRS  Model: 1.0\n",
      "[INFO] - On Training Set:\n",
      "\tF1 Score of MLLP Model: 1.0\n",
      "\tF1 Score of CRS  Model: 1.0\n",
      "[INFO] - ------------------------------------------------------------\n",
      "[INFO] - epoch: 91, loss: 0.10516770541063636\n",
      "[INFO] - epoch: 92, loss: 0.10875103682514009\n",
      "[INFO] - epoch: 93, loss: 0.10536440341093112\n",
      "[INFO] - epoch: 94, loss: 0.10565750166790622\n",
      "[INFO] - epoch: 95, loss: 0.09971390688406245\n",
      "[INFO] - ------------------------------------------------------------\n",
      "[INFO] - On Training Set:\n",
      "\tAccuracy of MLLP Model: 1.0\n",
      "\tAccuracy of CRS  Model: 1.0\n",
      "[INFO] - On Training Set:\n",
      "\tF1 Score of MLLP Model: 1.0\n",
      "\tF1 Score of CRS  Model: 1.0\n",
      "[INFO] - ------------------------------------------------------------\n",
      "[INFO] - epoch: 96, loss: 0.10253578882748116\n",
      "[INFO] - epoch: 97, loss: 0.16250636224594928\n",
      "[INFO] - epoch: 98, loss: 0.11517594565339095\n",
      "[INFO] - epoch: 99, loss: 0.09971457738038225\n"
     ]
    }
   ],
   "source": [
    "training_log = net.train(\n",
    "    X_train,\n",
    "    y_train,\n",
    "    lr=0.005,\n",
    "    batch_size=16,\n",
    "    epoch=100,\n",
    "    lr_decay_rate=0.75,\n",
    "    lr_decay_epoch=100,\n",
    "    weight_decay=1e-7)"
   ]
  },
  {
   "cell_type": "markdown",
   "metadata": {},
   "source": [
    "## Test the trained MLLP and extracted CRS"
   ]
  },
  {
   "cell_type": "code",
   "execution_count": 7,
   "metadata": {},
   "outputs": [
    {
     "name": "stdout",
     "output_type": "stream",
     "text": [
      "Accuracy of MLLP Model: 0.9649122807017544\n",
      "Accuracy of CRS  Model: 0.9736842105263158\n",
      "F1 Score of MLLP Model: 0.961025641025641\n",
      "F1 Score of CRS  Model: 0.9715828832571666\n"
     ]
    }
   ],
   "source": [
    "acc, acc_b, f1, f1_b = net.test(X_test, y_test, need_transform=True)\n",
    "\n",
    "print('Accuracy of MLLP Model: {}'\n",
    "      '\\nAccuracy of CRS  Model: {}'\n",
    "      '\\nF1 Score of MLLP Model: {}'\n",
    "      '\\nF1 Score of CRS  Model: {}'.format(acc, acc_b, f1, f1_b))"
   ]
  },
  {
   "cell_type": "markdown",
   "metadata": {},
   "source": [
    "## Display the extracted CRS"
   ]
  },
  {
   "cell_type": "code",
   "execution_count": 8,
   "metadata": {},
   "outputs": [
    {
     "name": "stdout",
     "output_type": "stream",
     "text": [
      "------------------------------------------------------------------------------------------\n",
      " class_0:\n",
      "\t       r1,0:\t [' mean smoothness_>0.08992', ' mean concavity_>0.09657', ' worst concave points_>0.175']\n",
      "\t       r1,1:\t [' mean concavity_>0.09657', ' area error_(31.24, 53.65]', ' concavity error_>0.02105', ' worst radius_(14.9, 16.77]', ' worst area_(739.1, 880.8]', ' worst smoothness_>0.1389']\n",
      "\t       r1,5:\t [' mean texture_>18.45', ' mean smoothness_>0.08992', ' mean symmetry_(0.1723, 0.2081]', ' radius error_(0.1935, 0.3857]', ' worst texture_>23.84', ' worst concavity_>0.366']\n",
      "\t      r1,11:\t [' mean smoothness_>0.08992', ' compactness error_>0.0182', ' worst perimeter_(105.0, 120.3]', ' worst smoothness_>0.1389']\n",
      "\t      r1,12:\t [' mean texture_>18.45', ' mean concavity_>0.09657', ' concavity error_>0.02105', ' concave points error_>0.012', ' worst texture_>23.84', ' worst area_(739.1, 880.8]']\n",
      "\t      r1,19:\t [' mean texture_>18.45', ' mean area_(496.6, 690.2]', ' mean compactness_<=0.1021', ' compactness error_<=0.0182', ' worst texture_>23.84', ' worst compactness_(0.1482, 0.2809]', ' worst concavity_(0.2028, 0.366]']\n",
      "\t      r1,20:\t [' mean texture_>18.45', ' compactness error_<=0.0182', ' worst radius_(16.77, 18.22]', ' worst texture_>23.84', ' worst perimeter_(105.0, 120.3]']\n",
      "\t      r1,23:\t [' worst perimeter_>120.3']\n",
      " class_1:\n",
      "\t       r1,4:\t [' mean texture_<=18.45', ' area error_<=31.24', ' compactness error_<=0.0182']\n",
      "\t       r1,7:\t [' mean texture_<=18.45', ' mean concavity_<=0.0716']\n",
      "\t       r1,8:\t [' mean radius_(12.99, 15.04]', ' mean area_(496.6, 690.2]', ' worst concave points_<=0.1095', ' worst symmetry_<=0.2806']\n",
      "\t       r1,9:\t [' mean concavity_<=0.0716', ' concave points error_(0.009199, 0.012]', ' worst concavity_<=0.2028', ' worst concave points_<=0.1095']\n",
      "\t      r1,13:\t [' worst perimeter_<=105.0', ' worst area_<=739.1']\n",
      "\t      r1,15:\t [' area error_<=31.24', ' worst perimeter_<=105.0', ' worst symmetry_<=0.2806']\n",
      "\t      r1,18:\t [' mean area_(496.6, 690.2]', ' worst texture_<=23.84', ' worst smoothness_<=0.1389']\n",
      "\t      r1,25:\t [' mean area_(496.6, 690.2]', ' mean smoothness_<=0.08992', ' mean concave points_(0.02657, 0.05102]', ' radius error_(0.1935, 0.3857]', ' worst smoothness_<=0.1389']\n"
     ]
    }
   ],
   "source": [
    "net.concept_rule_set_print(X_fname=db_enc.X_fname, y_fname=db_enc.y_fname, eliminate_redundancy=True)"
   ]
  },
  {
   "cell_type": "code",
   "execution_count": null,
   "metadata": {},
   "outputs": [],
   "source": []
  }
 ],
 "metadata": {
  "kernelspec": {
   "display_name": "Python 3",
   "language": "python",
   "name": "python3"
  },
  "language_info": {
   "codemirror_mode": {
    "name": "ipython",
    "version": 3
   },
   "file_extension": ".py",
   "mimetype": "text/x-python",
   "name": "python",
   "nbconvert_exporter": "python",
   "pygments_lexer": "ipython3",
   "version": "3.7.0"
  }
 },
 "nbformat": 4,
 "nbformat_minor": 2
}
